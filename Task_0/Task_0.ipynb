{
 "cells": [
  {
   "cell_type": "code",
   "execution_count": 1,
   "metadata": {
    "_cell_guid": "",
    "_uuid": ""
   },
   "outputs": [],
   "source": [
    "import pandas as pd\n",
    "import numpy as np\n",
    "import seaborn as sns   \n",
    "import matplotlib.pyplot as plt\n",
    "\n",
    "\n",
    "sample = pd.read_csv(\"../input/sample.csv\")\n",
    "test = pd.read_csv(\"../input/test.csv\")\n",
    "train = pd.read_csv(\"../input/train.csv\")"
   ]
  },
  {
   "cell_type": "code",
   "execution_count": 2,
   "metadata": {},
   "outputs": [
    {
     "data": {
      "text/html": [
       "<div>\n",
       "<style scoped>\n",
       "    .dataframe tbody tr th:only-of-type {\n",
       "        vertical-align: middle;\n",
       "    }\n",
       "\n",
       "    .dataframe tbody tr th {\n",
       "        vertical-align: top;\n",
       "    }\n",
       "\n",
       "    .dataframe thead th {\n",
       "        text-align: right;\n",
       "    }\n",
       "</style>\n",
       "<table border=\"1\" class=\"dataframe\">\n",
       "  <thead>\n",
       "    <tr style=\"text-align: right;\">\n",
       "      <th></th>\n",
       "      <th>Id</th>\n",
       "      <th>y</th>\n",
       "      <th>x1</th>\n",
       "      <th>x2</th>\n",
       "      <th>x3</th>\n",
       "      <th>x4</th>\n",
       "      <th>x5</th>\n",
       "      <th>x6</th>\n",
       "      <th>x7</th>\n",
       "      <th>x8</th>\n",
       "      <th>x9</th>\n",
       "      <th>x10</th>\n",
       "    </tr>\n",
       "  </thead>\n",
       "  <tbody>\n",
       "    <tr>\n",
       "      <th>0</th>\n",
       "      <td>0</td>\n",
       "      <td>738.023171</td>\n",
       "      <td>1764.052346</td>\n",
       "      <td>400.157208</td>\n",
       "      <td>978.737984</td>\n",
       "      <td>2240.893199</td>\n",
       "      <td>1867.557990</td>\n",
       "      <td>-977.277880</td>\n",
       "      <td>950.088418</td>\n",
       "      <td>-151.357208</td>\n",
       "      <td>-103.218852</td>\n",
       "      <td>410.598502</td>\n",
       "    </tr>\n",
       "    <tr>\n",
       "      <th>1</th>\n",
       "      <td>1</td>\n",
       "      <td>400.646015</td>\n",
       "      <td>144.043571</td>\n",
       "      <td>1454.273507</td>\n",
       "      <td>761.037725</td>\n",
       "      <td>121.675016</td>\n",
       "      <td>443.863233</td>\n",
       "      <td>333.674327</td>\n",
       "      <td>1494.079073</td>\n",
       "      <td>-205.158264</td>\n",
       "      <td>313.067702</td>\n",
       "      <td>-854.095739</td>\n",
       "    </tr>\n",
       "    <tr>\n",
       "      <th>2</th>\n",
       "      <td>2</td>\n",
       "      <td>189.900156</td>\n",
       "      <td>-2552.989816</td>\n",
       "      <td>653.618595</td>\n",
       "      <td>864.436199</td>\n",
       "      <td>-742.165020</td>\n",
       "      <td>2269.754624</td>\n",
       "      <td>-1454.365675</td>\n",
       "      <td>45.758517</td>\n",
       "      <td>-187.183850</td>\n",
       "      <td>1532.779214</td>\n",
       "      <td>1469.358770</td>\n",
       "    </tr>\n",
       "    <tr>\n",
       "      <th>3</th>\n",
       "      <td>3</td>\n",
       "      <td>-78.399449</td>\n",
       "      <td>154.947426</td>\n",
       "      <td>378.162520</td>\n",
       "      <td>-887.785748</td>\n",
       "      <td>-1980.796468</td>\n",
       "      <td>-347.912149</td>\n",
       "      <td>156.348969</td>\n",
       "      <td>1230.290681</td>\n",
       "      <td>1202.379849</td>\n",
       "      <td>-387.326817</td>\n",
       "      <td>-302.302751</td>\n",
       "    </tr>\n",
       "    <tr>\n",
       "      <th>4</th>\n",
       "      <td>4</td>\n",
       "      <td>-547.373531</td>\n",
       "      <td>-1048.552965</td>\n",
       "      <td>-1420.017937</td>\n",
       "      <td>-1706.270191</td>\n",
       "      <td>1950.775395</td>\n",
       "      <td>-509.652182</td>\n",
       "      <td>-438.074302</td>\n",
       "      <td>-1252.795360</td>\n",
       "      <td>777.490356</td>\n",
       "      <td>-1613.897848</td>\n",
       "      <td>-212.740280</td>\n",
       "    </tr>\n",
       "  </tbody>\n",
       "</table>\n",
       "</div>"
      ],
      "text/plain": [
       "   Id           y           x1           x2           x3           x4  \\\n",
       "0   0  738.023171  1764.052346   400.157208   978.737984  2240.893199   \n",
       "1   1  400.646015   144.043571  1454.273507   761.037725   121.675016   \n",
       "2   2  189.900156 -2552.989816   653.618595   864.436199  -742.165020   \n",
       "3   3  -78.399449   154.947426   378.162520  -887.785748 -1980.796468   \n",
       "4   4 -547.373531 -1048.552965 -1420.017937 -1706.270191  1950.775395   \n",
       "\n",
       "            x5           x6           x7           x8           x9  \\\n",
       "0  1867.557990  -977.277880   950.088418  -151.357208  -103.218852   \n",
       "1   443.863233   333.674327  1494.079073  -205.158264   313.067702   \n",
       "2  2269.754624 -1454.365675    45.758517  -187.183850  1532.779214   \n",
       "3  -347.912149   156.348969  1230.290681  1202.379849  -387.326817   \n",
       "4  -509.652182  -438.074302 -1252.795360   777.490356 -1613.897848   \n",
       "\n",
       "           x10  \n",
       "0   410.598502  \n",
       "1  -854.095739  \n",
       "2  1469.358770  \n",
       "3  -302.302751  \n",
       "4  -212.740280  "
      ]
     },
     "execution_count": 2,
     "metadata": {},
     "output_type": "execute_result"
    }
   ],
   "source": [
    "# Lets have a look at the data and its shape\n",
    "\n",
    "train.head()"
   ]
  },
  {
   "cell_type": "code",
   "execution_count": 3,
   "metadata": {},
   "outputs": [
    {
     "data": {
      "text/plain": [
       "(10000, 12)"
      ]
     },
     "execution_count": 3,
     "metadata": {},
     "output_type": "execute_result"
    }
   ],
   "source": [
    "train.shape"
   ]
  },
  {
   "cell_type": "code",
   "execution_count": 4,
   "metadata": {},
   "outputs": [
    {
     "data": {
      "text/html": [
       "<div>\n",
       "<style scoped>\n",
       "    .dataframe tbody tr th:only-of-type {\n",
       "        vertical-align: middle;\n",
       "    }\n",
       "\n",
       "    .dataframe tbody tr th {\n",
       "        vertical-align: top;\n",
       "    }\n",
       "\n",
       "    .dataframe thead th {\n",
       "        text-align: right;\n",
       "    }\n",
       "</style>\n",
       "<table border=\"1\" class=\"dataframe\">\n",
       "  <thead>\n",
       "    <tr style=\"text-align: right;\">\n",
       "      <th></th>\n",
       "      <th>Id</th>\n",
       "      <th>x1</th>\n",
       "      <th>x2</th>\n",
       "      <th>x3</th>\n",
       "      <th>x4</th>\n",
       "      <th>x5</th>\n",
       "      <th>x6</th>\n",
       "      <th>x7</th>\n",
       "      <th>x8</th>\n",
       "      <th>x9</th>\n",
       "      <th>x10</th>\n",
       "    </tr>\n",
       "  </thead>\n",
       "  <tbody>\n",
       "    <tr>\n",
       "      <th>0</th>\n",
       "      <td>10000</td>\n",
       "      <td>-483.797492</td>\n",
       "      <td>1288.057065</td>\n",
       "      <td>-129.878712</td>\n",
       "      <td>-198.078388</td>\n",
       "      <td>-334.487592</td>\n",
       "      <td>-391.443186</td>\n",
       "      <td>-612.406176</td>\n",
       "      <td>-676.523964</td>\n",
       "      <td>1327.229655</td>\n",
       "      <td>-448.695446</td>\n",
       "    </tr>\n",
       "    <tr>\n",
       "      <th>1</th>\n",
       "      <td>10001</td>\n",
       "      <td>-316.407305</td>\n",
       "      <td>30.830556</td>\n",
       "      <td>-313.356726</td>\n",
       "      <td>-173.259184</td>\n",
       "      <td>-327.368719</td>\n",
       "      <td>944.368248</td>\n",
       "      <td>1122.017380</td>\n",
       "      <td>112.338731</td>\n",
       "      <td>1372.340221</td>\n",
       "      <td>2062.561842</td>\n",
       "    </tr>\n",
       "    <tr>\n",
       "      <th>2</th>\n",
       "      <td>10002</td>\n",
       "      <td>-2448.558997</td>\n",
       "      <td>-561.988408</td>\n",
       "      <td>355.098820</td>\n",
       "      <td>634.378170</td>\n",
       "      <td>-392.450091</td>\n",
       "      <td>-813.156399</td>\n",
       "      <td>-232.873263</td>\n",
       "      <td>246.801210</td>\n",
       "      <td>-562.413197</td>\n",
       "      <td>-841.602015</td>\n",
       "    </tr>\n",
       "    <tr>\n",
       "      <th>3</th>\n",
       "      <td>10003</td>\n",
       "      <td>-942.120025</td>\n",
       "      <td>945.373015</td>\n",
       "      <td>140.910705</td>\n",
       "      <td>1753.565841</td>\n",
       "      <td>-347.223685</td>\n",
       "      <td>-1489.493408</td>\n",
       "      <td>-508.035412</td>\n",
       "      <td>1992.650031</td>\n",
       "      <td>555.461973</td>\n",
       "      <td>-1696.076948</td>\n",
       "    </tr>\n",
       "    <tr>\n",
       "      <th>4</th>\n",
       "      <td>10004</td>\n",
       "      <td>1752.366157</td>\n",
       "      <td>-597.550816</td>\n",
       "      <td>-466.491398</td>\n",
       "      <td>-1094.792276</td>\n",
       "      <td>-645.424882</td>\n",
       "      <td>-202.154830</td>\n",
       "      <td>205.073469</td>\n",
       "      <td>-270.385827</td>\n",
       "      <td>-310.299496</td>\n",
       "      <td>362.212675</td>\n",
       "    </tr>\n",
       "  </tbody>\n",
       "</table>\n",
       "</div>"
      ],
      "text/plain": [
       "      Id           x1           x2          x3           x4          x5  \\\n",
       "0  10000  -483.797492  1288.057065 -129.878712  -198.078388 -334.487592   \n",
       "1  10001  -316.407305    30.830556 -313.356726  -173.259184 -327.368719   \n",
       "2  10002 -2448.558997  -561.988408  355.098820   634.378170 -392.450091   \n",
       "3  10003  -942.120025   945.373015  140.910705  1753.565841 -347.223685   \n",
       "4  10004  1752.366157  -597.550816 -466.491398 -1094.792276 -645.424882   \n",
       "\n",
       "            x6           x7           x8           x9          x10  \n",
       "0  -391.443186  -612.406176  -676.523964  1327.229655  -448.695446  \n",
       "1   944.368248  1122.017380   112.338731  1372.340221  2062.561842  \n",
       "2  -813.156399  -232.873263   246.801210  -562.413197  -841.602015  \n",
       "3 -1489.493408  -508.035412  1992.650031   555.461973 -1696.076948  \n",
       "4  -202.154830   205.073469  -270.385827  -310.299496   362.212675  "
      ]
     },
     "execution_count": 4,
     "metadata": {},
     "output_type": "execute_result"
    }
   ],
   "source": [
    "test.head()"
   ]
  },
  {
   "cell_type": "code",
   "execution_count": 5,
   "metadata": {},
   "outputs": [
    {
     "data": {
      "text/plain": [
       "(2000, 11)"
      ]
     },
     "execution_count": 5,
     "metadata": {},
     "output_type": "execute_result"
    }
   ],
   "source": [
    "test.shape"
   ]
  },
  {
   "cell_type": "code",
   "execution_count": 6,
   "metadata": {},
   "outputs": [
    {
     "data": {
      "image/png": "[encoded data removed]",
      "text/plain": [
       "<Figure size 720x360 with 2 Axes>"
      ]
     },
     "metadata": {},
     "output_type": "display_data"
    }
   ],
   "source": [
    "# Here, we want to see if there is any correlation in the data\n",
    "\n",
    "plt.style.use('fivethirtyeight')\n",
    "fig, ax = plt.subplots(figsize=(10,5))         # Sample figsize in inches\n",
    "sns.heatmap(train.corr(), linewidths=.5, ax=ax)\n",
    "plt.show()"
   ]
  },
  {
   "cell_type": "code",
   "execution_count": 7,
   "metadata": {},
   "outputs": [],
   "source": [
    "# Lets split our training data into features and target\n",
    "\n",
    "X_train_feature_cols = train.columns.values[(train.columns.values != 'Id') & (train.columns.values != 'y')]\n",
    "X_train = train[X_train_feature_cols]\n",
    "y_train = train['y']\n",
    "\n",
    "# Also with test data\n",
    "\n",
    "X_test_feature_cols = test.columns.values[test.columns.values != 'Id']\n",
    "X_test = test[X_test_feature_cols]\n"
   ]
  },
  {
   "cell_type": "code",
   "execution_count": 8,
   "metadata": {},
   "outputs": [
    {
     "data": {
      "text/plain": [
       "1.0"
      ]
     },
     "execution_count": 8,
     "metadata": {},
     "output_type": "execute_result"
    }
   ],
   "source": [
    "# We do a simple linear regression using sklearn \n",
    "\n",
    "from sklearn.linear_model import LinearRegression\n",
    "\n",
    "reg = LinearRegression().fit(X_train, y_train) # fitting the data\n",
    "reg.score(X_train, y_train)  # How well do we fit "
   ]
  },
  {
   "cell_type": "code",
   "execution_count": 9,
   "metadata": {},
   "outputs": [
    {
     "data": {
      "text/plain": [
       "array([0.1, 0.1, 0.1, 0.1, 0.1, 0.1, 0.1, 0.1, 0.1, 0.1])"
      ]
     },
     "execution_count": 9,
     "metadata": {},
     "output_type": "execute_result"
    }
   ],
   "source": [
    "# Coefficients \n",
    "\n",
    "reg.coef_"
   ]
  },
  {
   "cell_type": "code",
   "execution_count": 10,
   "metadata": {},
   "outputs": [],
   "source": [
    "# to get the predicted y\n",
    "\n",
    "y_pred = reg.predict(X_test)"
   ]
  },
  {
   "cell_type": "code",
   "execution_count": 11,
   "metadata": {},
   "outputs": [],
   "source": [
    "X_test_get_Id = test.columns.values[test.columns.values == 'Id']\n",
    "Id = test[X_test_get_Id]"
   ]
  },
  {
   "cell_type": "code",
   "execution_count": 12,
   "metadata": {},
   "outputs": [],
   "source": [
    "Id = test.iloc[:, :1].values\n",
    "Id = np.reshape(Id,(2000,))"
   ]
  },
  {
   "cell_type": "code",
   "execution_count": 13,
   "metadata": {},
   "outputs": [],
   "source": [
    "# To write to a file \n",
    "\n",
    "df = pd.DataFrame({'Id':Id, 'y':y_pred})\n",
    "\n",
    "df.to_csv(r'solution.csv', index = False)"
   ]
  }
 ],
 "metadata": {
  "kernelspec": {
   "display_name": "Python 3",
   "language": "python",
   "name": "python3"
  },
  "language_info": {
   "codemirror_mode": {
    "name": "ipython",
    "version": 3
   },
   "file_extension": ".py",
   "mimetype": "text/x-python",
   "name": "python",
   "nbconvert_exporter": "python",
   "pygments_lexer": "ipython3",
   "version": "3.7.3"
  }
 },
 "nbformat": 4,
 "nbformat_minor": 4
}
