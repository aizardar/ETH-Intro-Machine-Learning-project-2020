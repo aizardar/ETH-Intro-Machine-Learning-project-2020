{
 "cells": [
  {
   "cell_type": "code",
   "execution_count": 1,
   "metadata": {},
   "outputs": [],
   "source": [
    "import pandas as pd\n",
    "import matplotlib.pyplot as plt\n",
    "import seaborn as sns\n",
    "import numpy as np"
   ]
  },
  {
   "cell_type": "code",
   "execution_count": 4,
   "metadata": {},
   "outputs": [],
   "source": [
    "df_train = pd.read_csv(\"../train.csv\")\n",
    "df_test = pd.read_csv(\"../test.csv\")"
   ]
  },
  {
   "cell_type": "code",
   "execution_count": 5,
   "metadata": {},
   "outputs": [
    {
     "data": {
      "text/html": [
       "<div>\n",
       "<style scoped>\n",
       "    .dataframe tbody tr th:only-of-type {\n",
       "        vertical-align: middle;\n",
       "    }\n",
       "\n",
       "    .dataframe tbody tr th {\n",
       "        vertical-align: top;\n",
       "    }\n",
       "\n",
       "    .dataframe thead th {\n",
       "        text-align: right;\n",
       "    }\n",
       "</style>\n",
       "<table border=\"1\" class=\"dataframe\">\n",
       "  <thead>\n",
       "    <tr style=\"text-align: right;\">\n",
       "      <th></th>\n",
       "      <th>Sequence</th>\n",
       "      <th>Active</th>\n",
       "    </tr>\n",
       "  </thead>\n",
       "  <tbody>\n",
       "    <tr>\n",
       "      <th>0</th>\n",
       "      <td>DKWL</td>\n",
       "      <td>0</td>\n",
       "    </tr>\n",
       "    <tr>\n",
       "      <th>1</th>\n",
       "      <td>FCHN</td>\n",
       "      <td>0</td>\n",
       "    </tr>\n",
       "    <tr>\n",
       "      <th>2</th>\n",
       "      <td>KDQP</td>\n",
       "      <td>0</td>\n",
       "    </tr>\n",
       "    <tr>\n",
       "      <th>3</th>\n",
       "      <td>FNWI</td>\n",
       "      <td>0</td>\n",
       "    </tr>\n",
       "    <tr>\n",
       "      <th>4</th>\n",
       "      <td>NKRM</td>\n",
       "      <td>0</td>\n",
       "    </tr>\n",
       "  </tbody>\n",
       "</table>\n",
       "</div>"
      ],
      "text/plain": [
       "  Sequence  Active\n",
       "0     DKWL       0\n",
       "1     FCHN       0\n",
       "2     KDQP       0\n",
       "3     FNWI       0\n",
       "4     NKRM       0"
      ]
     },
     "execution_count": 5,
     "metadata": {},
     "output_type": "execute_result"
    }
   ],
   "source": [
    "df_train.head()"
   ]
  },
  {
   "cell_type": "code",
   "execution_count": 6,
   "metadata": {},
   "outputs": [
    {
     "data": {
      "text/html": [
       "<div>\n",
       "<style scoped>\n",
       "    .dataframe tbody tr th:only-of-type {\n",
       "        vertical-align: middle;\n",
       "    }\n",
       "\n",
       "    .dataframe tbody tr th {\n",
       "        vertical-align: top;\n",
       "    }\n",
       "\n",
       "    .dataframe thead th {\n",
       "        text-align: right;\n",
       "    }\n",
       "</style>\n",
       "<table border=\"1\" class=\"dataframe\">\n",
       "  <thead>\n",
       "    <tr style=\"text-align: right;\">\n",
       "      <th></th>\n",
       "      <th>Sequence</th>\n",
       "    </tr>\n",
       "  </thead>\n",
       "  <tbody>\n",
       "    <tr>\n",
       "      <th>0</th>\n",
       "      <td>HWFK</td>\n",
       "    </tr>\n",
       "    <tr>\n",
       "      <th>1</th>\n",
       "      <td>MWPW</td>\n",
       "    </tr>\n",
       "    <tr>\n",
       "      <th>2</th>\n",
       "      <td>ALDV</td>\n",
       "    </tr>\n",
       "    <tr>\n",
       "      <th>3</th>\n",
       "      <td>NTLG</td>\n",
       "    </tr>\n",
       "    <tr>\n",
       "      <th>4</th>\n",
       "      <td>LHYY</td>\n",
       "    </tr>\n",
       "  </tbody>\n",
       "</table>\n",
       "</div>"
      ],
      "text/plain": [
       "  Sequence\n",
       "0     HWFK\n",
       "1     MWPW\n",
       "2     ALDV\n",
       "3     NTLG\n",
       "4     LHYY"
      ]
     },
     "execution_count": 6,
     "metadata": {},
     "output_type": "execute_result"
    }
   ],
   "source": [
    "df_test.head()"
   ]
  },
  {
   "cell_type": "code",
   "execution_count": 7,
   "metadata": {},
   "outputs": [
    {
     "data": {
      "text/html": [
       "<div>\n",
       "<style scoped>\n",
       "    .dataframe tbody tr th:only-of-type {\n",
       "        vertical-align: middle;\n",
       "    }\n",
       "\n",
       "    .dataframe tbody tr th {\n",
       "        vertical-align: top;\n",
       "    }\n",
       "\n",
       "    .dataframe thead th {\n",
       "        text-align: right;\n",
       "    }\n",
       "</style>\n",
       "<table border=\"1\" class=\"dataframe\">\n",
       "  <thead>\n",
       "    <tr style=\"text-align: right;\">\n",
       "      <th></th>\n",
       "      <th>Active</th>\n",
       "    </tr>\n",
       "  </thead>\n",
       "  <tbody>\n",
       "    <tr>\n",
       "      <th>count</th>\n",
       "      <td>112000.000000</td>\n",
       "    </tr>\n",
       "    <tr>\n",
       "      <th>mean</th>\n",
       "      <td>0.037616</td>\n",
       "    </tr>\n",
       "    <tr>\n",
       "      <th>std</th>\n",
       "      <td>0.190267</td>\n",
       "    </tr>\n",
       "    <tr>\n",
       "      <th>min</th>\n",
       "      <td>0.000000</td>\n",
       "    </tr>\n",
       "    <tr>\n",
       "      <th>25%</th>\n",
       "      <td>0.000000</td>\n",
       "    </tr>\n",
       "    <tr>\n",
       "      <th>50%</th>\n",
       "      <td>0.000000</td>\n",
       "    </tr>\n",
       "    <tr>\n",
       "      <th>75%</th>\n",
       "      <td>0.000000</td>\n",
       "    </tr>\n",
       "    <tr>\n",
       "      <th>max</th>\n",
       "      <td>1.000000</td>\n",
       "    </tr>\n",
       "  </tbody>\n",
       "</table>\n",
       "</div>"
      ],
      "text/plain": [
       "              Active\n",
       "count  112000.000000\n",
       "mean        0.037616\n",
       "std         0.190267\n",
       "min         0.000000\n",
       "25%         0.000000\n",
       "50%         0.000000\n",
       "75%         0.000000\n",
       "max         1.000000"
      ]
     },
     "execution_count": 7,
     "metadata": {},
     "output_type": "execute_result"
    }
   ],
   "source": [
    "df_train.describe()"
   ]
  },
  {
   "cell_type": "markdown",
   "metadata": {},
   "source": [
    "## Data Analysis\n",
    "\n",
    "#### Ref : https://github.com/ronakvijay/Protein_Sequence_Classification/blob/master/Pfam_protein_sequence_classification.ipynb"
   ]
  },
  {
   "cell_type": "code",
   "execution_count": 8,
   "metadata": {},
   "outputs": [
    {
     "name": "stdout",
     "output_type": "stream",
     "text": [
      "Codes: Train\n",
      "Total unique codes: 20\n",
      "Codes: Test\n",
      "Total unique codes: 20\n"
     ]
    }
   ],
   "source": [
    "from collections import Counter\n",
    "\n",
    "def get_code_freq(df, data_name):\n",
    "  \n",
    "    df = df.apply(lambda x: \" \".join(x))\n",
    "\n",
    "    codes = []\n",
    "    for i in df: # concatination of all codes\n",
    "        codes.extend(i)\n",
    "\n",
    "    codes_dict= Counter(codes)\n",
    "    codes_dict.pop(' ') # removing white space\n",
    "\n",
    "    print(f'Codes: {data_name}')\n",
    "    print(f'Total unique codes: {len(codes_dict.keys())}')\n",
    "\n",
    "    df = pd.DataFrame({'Code': list(codes_dict.keys()), 'Freq': list(codes_dict.values())})\n",
    "    return df.sort_values('Freq', ascending=False).reset_index()[['Code', 'Freq']]\n",
    "  \n",
    "# train code sequence\n",
    "train_code_freq = get_code_freq(df_train['Sequence'], 'Train')\n",
    "test_code_freq = get_code_freq(df_test['Sequence'], 'Test')\n"
   ]
  },
  {
   "cell_type": "code",
   "execution_count": 9,
   "metadata": {},
   "outputs": [
    {
     "data": {
      "text/html": [
       "<div>\n",
       "<style scoped>\n",
       "    .dataframe tbody tr th:only-of-type {\n",
       "        vertical-align: middle;\n",
       "    }\n",
       "\n",
       "    .dataframe tbody tr th {\n",
       "        vertical-align: top;\n",
       "    }\n",
       "\n",
       "    .dataframe thead th {\n",
       "        text-align: right;\n",
       "    }\n",
       "</style>\n",
       "<table border=\"1\" class=\"dataframe\">\n",
       "  <thead>\n",
       "    <tr style=\"text-align: right;\">\n",
       "      <th></th>\n",
       "      <th>Code</th>\n",
       "      <th>Freq</th>\n",
       "    </tr>\n",
       "  </thead>\n",
       "  <tbody>\n",
       "    <tr>\n",
       "      <th>0</th>\n",
       "      <td>V</td>\n",
       "      <td>22560</td>\n",
       "    </tr>\n",
       "    <tr>\n",
       "      <th>1</th>\n",
       "      <td>K</td>\n",
       "      <td>22506</td>\n",
       "    </tr>\n",
       "    <tr>\n",
       "      <th>2</th>\n",
       "      <td>D</td>\n",
       "      <td>22495</td>\n",
       "    </tr>\n",
       "    <tr>\n",
       "      <th>3</th>\n",
       "      <td>T</td>\n",
       "      <td>22488</td>\n",
       "    </tr>\n",
       "    <tr>\n",
       "      <th>4</th>\n",
       "      <td>N</td>\n",
       "      <td>22487</td>\n",
       "    </tr>\n",
       "    <tr>\n",
       "      <th>5</th>\n",
       "      <td>L</td>\n",
       "      <td>22478</td>\n",
       "    </tr>\n",
       "    <tr>\n",
       "      <th>6</th>\n",
       "      <td>A</td>\n",
       "      <td>22453</td>\n",
       "    </tr>\n",
       "    <tr>\n",
       "      <th>7</th>\n",
       "      <td>Y</td>\n",
       "      <td>22448</td>\n",
       "    </tr>\n",
       "    <tr>\n",
       "      <th>8</th>\n",
       "      <td>P</td>\n",
       "      <td>22401</td>\n",
       "    </tr>\n",
       "    <tr>\n",
       "      <th>9</th>\n",
       "      <td>C</td>\n",
       "      <td>22398</td>\n",
       "    </tr>\n",
       "    <tr>\n",
       "      <th>10</th>\n",
       "      <td>R</td>\n",
       "      <td>22386</td>\n",
       "    </tr>\n",
       "    <tr>\n",
       "      <th>11</th>\n",
       "      <td>W</td>\n",
       "      <td>22379</td>\n",
       "    </tr>\n",
       "    <tr>\n",
       "      <th>12</th>\n",
       "      <td>S</td>\n",
       "      <td>22378</td>\n",
       "    </tr>\n",
       "    <tr>\n",
       "      <th>13</th>\n",
       "      <td>E</td>\n",
       "      <td>22375</td>\n",
       "    </tr>\n",
       "    <tr>\n",
       "      <th>14</th>\n",
       "      <td>I</td>\n",
       "      <td>22347</td>\n",
       "    </tr>\n",
       "    <tr>\n",
       "      <th>15</th>\n",
       "      <td>G</td>\n",
       "      <td>22330</td>\n",
       "    </tr>\n",
       "    <tr>\n",
       "      <th>16</th>\n",
       "      <td>Q</td>\n",
       "      <td>22290</td>\n",
       "    </tr>\n",
       "    <tr>\n",
       "      <th>17</th>\n",
       "      <td>H</td>\n",
       "      <td>22277</td>\n",
       "    </tr>\n",
       "    <tr>\n",
       "      <th>18</th>\n",
       "      <td>F</td>\n",
       "      <td>22273</td>\n",
       "    </tr>\n",
       "    <tr>\n",
       "      <th>19</th>\n",
       "      <td>M</td>\n",
       "      <td>22251</td>\n",
       "    </tr>\n",
       "  </tbody>\n",
       "</table>\n",
       "</div>"
      ],
      "text/plain": [
       "   Code   Freq\n",
       "0     V  22560\n",
       "1     K  22506\n",
       "2     D  22495\n",
       "3     T  22488\n",
       "4     N  22487\n",
       "5     L  22478\n",
       "6     A  22453\n",
       "7     Y  22448\n",
       "8     P  22401\n",
       "9     C  22398\n",
       "10    R  22386\n",
       "11    W  22379\n",
       "12    S  22378\n",
       "13    E  22375\n",
       "14    I  22347\n",
       "15    G  22330\n",
       "16    Q  22290\n",
       "17    H  22277\n",
       "18    F  22273\n",
       "19    M  22251"
      ]
     },
     "execution_count": 9,
     "metadata": {},
     "output_type": "execute_result"
    }
   ],
   "source": [
    "train_code_freq"
   ]
  },
  {
   "cell_type": "code",
   "execution_count": 10,
   "metadata": {},
   "outputs": [
    {
     "data": {
      "text/html": [
       "<div>\n",
       "<style scoped>\n",
       "    .dataframe tbody tr th:only-of-type {\n",
       "        vertical-align: middle;\n",
       "    }\n",
       "\n",
       "    .dataframe tbody tr th {\n",
       "        vertical-align: top;\n",
       "    }\n",
       "\n",
       "    .dataframe thead th {\n",
       "        text-align: right;\n",
       "    }\n",
       "</style>\n",
       "<table border=\"1\" class=\"dataframe\">\n",
       "  <thead>\n",
       "    <tr style=\"text-align: right;\">\n",
       "      <th></th>\n",
       "      <th>Code</th>\n",
       "      <th>Freq</th>\n",
       "    </tr>\n",
       "  </thead>\n",
       "  <tbody>\n",
       "    <tr>\n",
       "      <th>0</th>\n",
       "      <td>M</td>\n",
       "      <td>9749</td>\n",
       "    </tr>\n",
       "    <tr>\n",
       "      <th>1</th>\n",
       "      <td>F</td>\n",
       "      <td>9727</td>\n",
       "    </tr>\n",
       "    <tr>\n",
       "      <th>2</th>\n",
       "      <td>H</td>\n",
       "      <td>9723</td>\n",
       "    </tr>\n",
       "    <tr>\n",
       "      <th>3</th>\n",
       "      <td>Q</td>\n",
       "      <td>9710</td>\n",
       "    </tr>\n",
       "    <tr>\n",
       "      <th>4</th>\n",
       "      <td>G</td>\n",
       "      <td>9670</td>\n",
       "    </tr>\n",
       "    <tr>\n",
       "      <th>5</th>\n",
       "      <td>I</td>\n",
       "      <td>9653</td>\n",
       "    </tr>\n",
       "    <tr>\n",
       "      <th>6</th>\n",
       "      <td>E</td>\n",
       "      <td>9625</td>\n",
       "    </tr>\n",
       "    <tr>\n",
       "      <th>7</th>\n",
       "      <td>S</td>\n",
       "      <td>9622</td>\n",
       "    </tr>\n",
       "    <tr>\n",
       "      <th>8</th>\n",
       "      <td>W</td>\n",
       "      <td>9621</td>\n",
       "    </tr>\n",
       "    <tr>\n",
       "      <th>9</th>\n",
       "      <td>R</td>\n",
       "      <td>9614</td>\n",
       "    </tr>\n",
       "    <tr>\n",
       "      <th>10</th>\n",
       "      <td>C</td>\n",
       "      <td>9602</td>\n",
       "    </tr>\n",
       "    <tr>\n",
       "      <th>11</th>\n",
       "      <td>P</td>\n",
       "      <td>9599</td>\n",
       "    </tr>\n",
       "    <tr>\n",
       "      <th>12</th>\n",
       "      <td>Y</td>\n",
       "      <td>9552</td>\n",
       "    </tr>\n",
       "    <tr>\n",
       "      <th>13</th>\n",
       "      <td>A</td>\n",
       "      <td>9547</td>\n",
       "    </tr>\n",
       "    <tr>\n",
       "      <th>14</th>\n",
       "      <td>L</td>\n",
       "      <td>9522</td>\n",
       "    </tr>\n",
       "    <tr>\n",
       "      <th>15</th>\n",
       "      <td>N</td>\n",
       "      <td>9513</td>\n",
       "    </tr>\n",
       "    <tr>\n",
       "      <th>16</th>\n",
       "      <td>T</td>\n",
       "      <td>9512</td>\n",
       "    </tr>\n",
       "    <tr>\n",
       "      <th>17</th>\n",
       "      <td>D</td>\n",
       "      <td>9505</td>\n",
       "    </tr>\n",
       "    <tr>\n",
       "      <th>18</th>\n",
       "      <td>K</td>\n",
       "      <td>9494</td>\n",
       "    </tr>\n",
       "    <tr>\n",
       "      <th>19</th>\n",
       "      <td>V</td>\n",
       "      <td>9440</td>\n",
       "    </tr>\n",
       "  </tbody>\n",
       "</table>\n",
       "</div>"
      ],
      "text/plain": [
       "   Code  Freq\n",
       "0     M  9749\n",
       "1     F  9727\n",
       "2     H  9723\n",
       "3     Q  9710\n",
       "4     G  9670\n",
       "5     I  9653\n",
       "6     E  9625\n",
       "7     S  9622\n",
       "8     W  9621\n",
       "9     R  9614\n",
       "10    C  9602\n",
       "11    P  9599\n",
       "12    Y  9552\n",
       "13    A  9547\n",
       "14    L  9522\n",
       "15    N  9513\n",
       "16    T  9512\n",
       "17    D  9505\n",
       "18    K  9494\n",
       "19    V  9440"
      ]
     },
     "execution_count": 10,
     "metadata": {},
     "output_type": "execute_result"
    }
   ],
   "source": [
    "test_code_freq"
   ]
  },
  {
   "cell_type": "code",
   "execution_count": 11,
   "metadata": {},
   "outputs": [],
   "source": [
    "def plot_code_freq(df, data_name):\n",
    "  \n",
    "    plt.title(f'Code frequency: {data_name}')\n",
    "    sns.barplot(x='Code', y='Freq', data=df)"
   ]
  },
  {
   "cell_type": "code",
   "execution_count": 12,
   "metadata": {},
   "outputs": [
    {
     "data": {
      "image/png": "[encoded data removed]",
      "text/plain": [
       "<Figure size 432x288 with 1 Axes>"
      ]
     },
     "metadata": {
      "needs_background": "light"
     },
     "output_type": "display_data"
    }
   ],
   "source": [
    "plot_code_freq(train_code_freq, 'Train')"
   ]
  },
  {
   "cell_type": "code",
   "execution_count": 13,
   "metadata": {},
   "outputs": [
    {
     "data": {
      "image/png": "[encoded data removed]",
      "text/plain": [
       "<Figure size 432x288 with 1 Axes>"
      ]
     },
     "metadata": {
      "needs_background": "light"
     },
     "output_type": "display_data"
    }
   ],
   "source": [
    "plot_code_freq(test_code_freq, 'Test')"
   ]
  },
  {
   "cell_type": "markdown",
   "metadata": {},
   "source": [
    "## Text processing"
   ]
  },
  {
   "cell_type": "code",
   "execution_count": 14,
   "metadata": {},
   "outputs": [
    {
     "name": "stdout",
     "output_type": "stream",
     "text": [
      "{'V': 1, 'K': 2, 'D': 3, 'T': 4, 'N': 5, 'L': 6, 'A': 7, 'Y': 8, 'P': 9, 'C': 10, 'R': 11, 'W': 12, 'S': 13, 'E': 14, 'I': 15, 'G': 16, 'Q': 17, 'H': 18, 'F': 19, 'M': 20}\n",
      "Dict Length: 20\n"
     ]
    }
   ],
   "source": [
    "codes = ['V', 'K', 'D', 'T', 'N', 'L', 'A', 'Y', 'P', 'C',\n",
    "         'R', 'W', 'S', 'E', 'I', 'G', 'Q', 'H', 'F', 'M']\n",
    "\n",
    "def create_dict(codes):\n",
    "    char_dict = {}\n",
    "    for index, val in enumerate(codes):\n",
    "        char_dict[val] = index+1\n",
    "\n",
    "    return char_dict\n",
    "\n",
    "char_dict = create_dict(codes)\n",
    "\n",
    "print(char_dict)\n",
    "print(\"Dict Length:\", len(char_dict))"
   ]
  },
  {
   "cell_type": "code",
   "execution_count": 15,
   "metadata": {},
   "outputs": [],
   "source": [
    "# Let's convert each character to an integer\n",
    "\n",
    "def integer_encoding(data):\n",
    "    \n",
    "    \n",
    "    encode_list = []\n",
    "    for row in data['Sequence'].values:\n",
    "        row_encode = []\n",
    "        for code in row:\n",
    "            row_encode.append(char_dict.get(code, 0))\n",
    "        encode_list.append(np.array(row_encode))\n",
    "  \n",
    "    return encode_list"
   ]
  },
  {
   "cell_type": "code",
   "execution_count": 16,
   "metadata": {},
   "outputs": [],
   "source": [
    "train_encode = integer_encoding(df_train) \n",
    "test_encode = integer_encoding(df_test) \n"
   ]
  },
  {
   "cell_type": "code",
   "execution_count": null,
   "metadata": {},
   "outputs": [],
   "source": []
  },
  {
   "cell_type": "code",
   "execution_count": 19,
   "metadata": {},
   "outputs": [],
   "source": [
    "# Let's now one hot encode our training and test data\n",
    "\n",
    "from sklearn.preprocessing import OneHotEncoder\n",
    "\n",
    "\n",
    "ohe = OneHotEncoder()\n",
    "ohe.fit(train_encode)\n",
    "X_train_enc = ohe.transform(train_encode)\n",
    "X_test_enc = ohe.transform(test_encode)\n"
   ]
  },
  {
   "cell_type": "code",
   "execution_count": 20,
   "metadata": {},
   "outputs": [],
   "source": [
    "train_labels = df_train.pop(\"Active\")\n"
   ]
  },
  {
   "cell_type": "code",
   "execution_count": 24,
   "metadata": {},
   "outputs": [
    {
     "data": {
      "text/plain": [
       "<5x1 sparse matrix of type '<class 'numpy.float64'>'\n",
       "\twith 0 stored elements in Compressed Sparse Row format>"
      ]
     },
     "execution_count": 24,
     "metadata": {},
     "output_type": "execute_result"
    }
   ],
   "source": [
    "X_train_enc[:5,:1]"
   ]
  },
  {
   "cell_type": "markdown",
   "metadata": {},
   "source": [
    "## Classification"
   ]
  },
  {
   "cell_type": "markdown",
   "metadata": {},
   "source": [
    "### Logistic Regression"
   ]
  },
  {
   "cell_type": "code",
   "execution_count": null,
   "metadata": {},
   "outputs": [],
   "source": [
    "from sklearn.linear_model import LogisticRegression\n",
    "from sklearn.model_selection import cross_val_score\n",
    "from sklearn.model_selection import StratifiedKFold\n",
    "\n",
    "\n",
    "clf = LogisticRegression(random_state=0)\n",
    "skf = StratifiedKFold(n_splits=10)\n",
    "f1_scores = cross_val_score(clf, X_train_enc, train_labels, scoring = 'f1', cv = skf, n_jobs = -1)\n",
    "print(f1_scores)"
   ]
  },
  {
   "cell_type": "markdown",
   "metadata": {},
   "source": [
    "### Random Forest"
   ]
  },
  {
   "cell_type": "code",
   "execution_count": null,
   "metadata": {},
   "outputs": [],
   "source": [
    "from sklearn.model_selection import cross_val_score\n",
    "from sklearn.model_selection import StratifiedKFold\n",
    "from sklearn.ensemble import RandomForestClassifier\n",
    "\n",
    "\n",
    "clf = RandomForestClassifier(random_state=0)\n",
    "skf = StratifiedKFold(n_splits=10)\n",
    "f1_scores = cross_val_score(clf, X_train_enc, train_labels, scoring = 'f1', cv = skf, n_jobs = -1)\n",
    "print(f1_scores)"
   ]
  },
  {
   "cell_type": "markdown",
   "metadata": {},
   "source": [
    "### SVM"
   ]
  },
  {
   "cell_type": "code",
   "execution_count": null,
   "metadata": {},
   "outputs": [],
   "source": [
    "from sklearn.model_selection import cross_val_score\n",
    "from sklearn.model_selection import StratifiedKFold\n",
    "from sklearn.svm import SVC\n",
    "\n",
    "\n",
    "clf = SVC(random_state=0)\n",
    "skf = StratifiedKFold(n_splits=10)\n",
    "f1_scores = cross_val_score(clf, X_train_enc, train_labels, scoring = 'f1', cv = skf, n_jobs = -1)\n",
    "print(f1_scores)"
   ]
  },
  {
   "cell_type": "markdown",
   "metadata": {},
   "source": [
    "### Grid Search for SVM"
   ]
  },
  {
   "cell_type": "code",
   "execution_count": null,
   "metadata": {},
   "outputs": [],
   "source": [
    "from sklearn.model_selection import GridSearchCV\n",
    "from sklearn.model_selection import cross_val_score\n",
    "from sklearn.model_selection import StratifiedKFold, train_test_split\n",
    "from sklearn.svm import SVC\n",
    "\n",
    "X_train, X_val, y_train, y_val = train_test_split(X_train_enc, train_labels, test_size = 0.2, random_state = 2020, stratify = train_labels)\n",
    "\n",
    "Cs = [1, 10, 100]\n",
    "gammas = [0.001, 0.01, 0.1, 1]\n",
    "\n",
    "\n",
    "for ker in ['rbf', 'poly']:\n",
    "    \n",
    "    for i in Cs:\n",
    "        for j in gammas:\n",
    "\n",
    "            print(\"Kernel = \", ker, \", C = \", i, \", Gamma = \", j, \"\\n\")\n",
    "\n",
    "            clf = SVC(kernel = ker, random_state=2020, gamma = j , C = i)\n",
    "            skf = StratifiedKFold(n_splits=5)\n",
    "            CV_f1 = cross_val_score(clf, X_train, y_train, scoring = 'f1', cv = skf, n_jobs = -1)\n",
    "            print(\"F1 score = \", CV_f1)\n",
    "            print (\"Mean F1 score = \", np.mean(CV_f1))\n",
    "            print (\"\\n_______________________________________________________________________\\n\")\n",
    "\n",
    "\n",
    "\n",
    "\n"
   ]
  },
  {
   "cell_type": "code",
   "execution_count": null,
   "metadata": {},
   "outputs": [],
   "source": [
    "\n",
    "\n",
    "'''\n",
    "Kernel =  rbf , C =  1 , Gamma =  0.001 \n",
    "\n",
    "F1 score =  [0. 0. 0. 0. 0.]\n",
    "Mean F1 score =  0.0\n",
    "\n",
    "_______________________________________________________________________\n",
    "\n",
    "Kernel =  rbf , C =  1 , Gamma =  0.01 \n",
    "\n",
    "F1 score =  [0.00296296 0.02342606 0.         0.05202312 0.        ]\n",
    "Mean F1 score =  0.015682429168731526\n",
    "\n",
    "_______________________________________________________________________\n",
    "\n",
    "Kernel =  rbf , C =  1 , Gamma =  0.1 \n",
    "\n",
    "F1 score =  [0.75783972 0.744551   0.76256499 0.74125874 0.73637176]\n",
    "Mean F1 score =  0.7485172433927103\n",
    "\n",
    "_______________________________________________________________________\n",
    "\n",
    "Kernel =  rbf , C =  1 , Gamma =  1 \n",
    "\n",
    "F1 score =  [0.78184991 0.76165347 0.78019114 0.74219447 0.76190476]\n",
    "Mean F1 score =  0.7655587512127822\n",
    "\n",
    "_______________________________________________________________________\n",
    "\n",
    "Kernel =  rbf , C =  10 , Gamma =  0.001 \n",
    "\n",
    "F1 score =  [0.03183792 0.03768116 0.01466276 0.05475504 0.00296296]\n",
    "Mean F1 score =  0.02837996765456697\n",
    "\n",
    "_______________________________________________________________________\n",
    "\n",
    "Kernel =  rbf , C =  10 , Gamma =  0.01 \n",
    "\n",
    "F1 score =  [0.65507777 0.62719704 0.65398551 0.63971249 0.6329588 ]\n",
    "Mean F1 score =  0.6417863209807314\n",
    "\n",
    "_______________________________________________________________________\n",
    "\n",
    "Kernel =  rbf , C =  10 , Gamma =  0.1 \n",
    "\n",
    "F1 score =  [0.86111111 0.8411215  0.87128713 0.84735202 0.85533597]\n",
    "Mean F1 score =  0.8552415456905301\n",
    "\n",
    "_______________________________________________________________________\n",
    "\n",
    "Kernel =  rbf , C =  10 , Gamma =  1 \n",
    "\n",
    "F1 score =  [0.81687764 0.80541455 0.82450331 0.78006873 0.81025641]\n",
    "Mean F1 score =  0.8074241277550543\n",
    "\n",
    "_______________________________________________________________________\n",
    "\n",
    "Kernel =  rbf , C =  100 , Gamma =  0.001 \n",
    "\n",
    "F1 score =  [0.5752381  0.56766917 0.58450047 0.57866184 0.58666667]\n",
    "Mean F1 score =  0.5785472492350261\n",
    "\n",
    "_______________________________________________________________________\n",
    "\n",
    "Kernel =  rbf , C =  100 , Gamma =  0.01 \n",
    "\n",
    "F1 score =  [0.79470199 0.79438481 0.80721903 0.77591973 0.78061224]\n",
    "Mean F1 score =  0.7905675604066669\n",
    "\n",
    "_______________________________________________________________________\n",
    "\n",
    "Kernel =  rbf , C =  100 , Gamma =  0.1 \n",
    "\n",
    "F1 score =  [0.87958115 0.86716418 0.87296898 0.86209495 0.86851991]\n",
    "Mean F1 score =  0.8700658345188262\n",
    "\n",
    "_______________________________________________________________________\n",
    "\n",
    "Kernel =  rbf , C =  100 , Gamma =  1 \n",
    "\n",
    "F1 score =  [0.81687764 0.80541455 0.82450331 0.78006873 0.81025641]\n",
    "Mean F1 score =  0.8074241277550543\n",
    "\n",
    "_______________________________________________________________________\n",
    "\n",
    "Kernel =  poly , C =  1 , Gamma =  0.001 \n",
    "\n",
    "F1 score =  [0. 0. 0. 0. 0.]\n",
    "Mean F1 score =  0.0\n",
    "\n",
    "_______________________________________________________________________\n",
    "\n",
    "Kernel =  poly , C =  1 , Gamma =  0.01 \n",
    "\n",
    "F1 score =  [0. 0. 0. 0. 0.]\n",
    "Mean F1 score =  0.0\n",
    "\n",
    "_______________________________________________________________________\n",
    "\n",
    "Kernel =  poly , C =  1 , Gamma =  0.1 \n",
    "\n",
    "F1 score =  [0.00296296 0.01472754 0.00591716 0.01472754 0.00591716]\n",
    "Mean F1 score =  0.008850472698212587\n",
    "\n",
    "_______________________________________________________________________\n",
    "\n",
    "Kernel =  poly , C =  1 , Gamma =  1 \n",
    "\n",
    "F1 score =  [0.87171793 0.85607196 0.86706056 0.85151515 0.86336336]\n",
    "Mean F1 score =  0.8619457939357458\n",
    "\n",
    "_______________________________________________________________________\n",
    "\n",
    "Kernel =  poly , C =  10 , Gamma =  0.001 \n",
    "\n",
    "F1 score =  [0. 0. 0. 0. 0.]\n",
    "Mean F1 score =  0.0\n",
    "\n",
    "_______________________________________________________________________\n",
    "\n",
    "Kernel =  poly , C =  10 , Gamma =  0.01 \n",
    "\n",
    "F1 score =  [0. 0. 0. 0. 0.]\n",
    "Mean F1 score =  0.0\n",
    "\n",
    "_______________________________________________________________________\n",
    "\n",
    "Kernel =  poly , C =  10 , Gamma =  0.1 \n",
    "\n",
    "F1 score =  [0.82798354 0.79734219 0.82508251 0.78275571 0.80101609]\n",
    "Mean F1 score =  0.80683600678602\n",
    "\n",
    "_______________________________________________________________________\n",
    "\n",
    "Kernel =  poly , C =  10 , Gamma =  1 \n",
    "\n",
    "F1 score =  [0.87171793 0.85607196 0.86706056 0.85151515 0.86336336]\n",
    "Mean F1 score =  0.8619457939357458\n",
    "\n",
    "_______________________________________________________________________\n",
    "\n",
    "Kernel =  poly , C =  100 , Gamma =  0.001 \n",
    "\n",
    "F1 score =  [0. 0. 0. 0. 0.]\n",
    "Mean F1 score =  0.0\n",
    "\n",
    "_______________________________________________________________________\n",
    "\n",
    "Kernel =  poly , C =  100 , Gamma =  0.01 \n",
    "\n",
    "F1 score =  [0. 0. 0. 0. 0.]\n",
    "Mean F1 score =  0.0\n",
    "\n",
    "_______________________________________________________________________\n",
    "\n",
    "Kernel =  poly , C =  100 , Gamma =  0.1 \n",
    "\n",
    "F1 score =  [0.8786737  0.85048835 0.86750555 0.85280728 0.86963075]\n",
    "Mean F1 score =  0.8638211271892609\n",
    "\n",
    "_______________________________________________________________________\n",
    "\n",
    "Kernel =  poly , C =  100 , Gamma =  1 \n",
    "\n",
    "F1 score =  [0.87171793 0.85607196 0.86706056 0.85151515 0.86336336]\n",
    "Mean F1 score =  0.8619457939357458\n",
    "\n",
    "'''"
   ]
  },
  {
   "cell_type": "markdown",
   "metadata": {},
   "source": [
    "### Prediction on validation set"
   ]
  },
  {
   "cell_type": "code",
   "execution_count": 24,
   "metadata": {},
   "outputs": [
    {
     "name": "stdout",
     "output_type": "stream",
     "text": [
      "0.8891580860084798\n"
     ]
    }
   ],
   "source": [
    "from sklearn.svm import SVC\n",
    "from sklearn.metrics import f1_score\n",
    "\n",
    "clf = SVC(kernel = 'rbf', random_state=2020, gamma = 0.1 , C = 100)\n",
    "clf.fit(X_train, y_train)\n",
    "y_pred = pd.DataFrame(clf.predict(X_val))\n",
    "print(f1_score(y_pred, y_val))"
   ]
  },
  {
   "cell_type": "code",
   "execution_count": 26,
   "metadata": {},
   "outputs": [],
   "source": [
    "y_pred.to_csv(\"prediction\", header = False, index = False)"
   ]
  },
  {
   "cell_type": "code",
   "execution_count": null,
   "metadata": {},
   "outputs": [],
   "source": []
  },
  {
   "cell_type": "code",
   "execution_count": null,
   "metadata": {},
   "outputs": [],
   "source": []
  },
  {
   "cell_type": "markdown",
   "metadata": {},
   "source": [
    "## Following was not used to make predictions !!"
   ]
  },
  {
   "cell_type": "markdown",
   "metadata": {},
   "source": [
    "### Feature Engineering"
   ]
  },
  {
   "cell_type": "markdown",
   "metadata": {},
   "source": [
    "#### Let's separate 4 letter combinations into different columns"
   ]
  },
  {
   "cell_type": "code",
   "execution_count": null,
   "metadata": {},
   "outputs": [],
   "source": [
    "def split(df):\n",
    "    df[['Seq_letter_1','Seq_letter_2', 'Seq_letter_3','Seq_letter_4']] = df.Sequence.str.extract(pat = '([A-Z])([A-Z])([A-Z])([A-Z])', expand = False)\n",
    "    return df"
   ]
  },
  {
   "cell_type": "code",
   "execution_count": null,
   "metadata": {},
   "outputs": [],
   "source": [
    "df_train = split(df_train)\n",
    "df_test = split(df_test)"
   ]
  },
  {
   "cell_type": "code",
   "execution_count": null,
   "metadata": {},
   "outputs": [],
   "source": [
    "df_train"
   ]
  },
  {
   "cell_type": "code",
   "execution_count": null,
   "metadata": {},
   "outputs": [],
   "source": [
    "df_test"
   ]
  },
  {
   "cell_type": "code",
   "execution_count": null,
   "metadata": {},
   "outputs": [],
   "source": [
    "y_train = df_train.pop(\"Active\")\n",
    "y_train"
   ]
  },
  {
   "cell_type": "code",
   "execution_count": null,
   "metadata": {},
   "outputs": [],
   "source": [
    "# df_train.drop(\"Sequence\", axis = 1, inplace = True)"
   ]
  },
  {
   "cell_type": "code",
   "execution_count": null,
   "metadata": {},
   "outputs": [],
   "source": []
  },
  {
   "cell_type": "code",
   "execution_count": null,
   "metadata": {},
   "outputs": [],
   "source": [
    "from sklearn.preprocessing import LabelEncoder\n",
    "\n",
    "\n",
    "def multicolumn_label_encode(df):\n",
    "    \n",
    "    df.drop(\"Sequence\", axis = 1, inplace = True)\n",
    "    \n",
    "    df = pd.DataFrame(columns=df.columns, data=LabelEncoder().fit_transform(df.values.flatten()).reshape(df.shape))\n",
    "    return df"
   ]
  },
  {
   "cell_type": "code",
   "execution_count": null,
   "metadata": {},
   "outputs": [],
   "source": [
    "X_train = multicolumn_label_encode(df_train)"
   ]
  }
 ],
 "metadata": {
  "kernelspec": {
   "display_name": "Python 3",
   "language": "python",
   "name": "python3"
  },
  "language_info": {
   "codemirror_mode": {
    "name": "ipython",
    "version": 3
   },
   "file_extension": ".py",
   "mimetype": "text/x-python",
   "name": "python",
   "nbconvert_exporter": "python",
   "pygments_lexer": "ipython3",
   "version": "3.7.4"
  }
 },
 "nbformat": 4,
 "nbformat_minor": 4
}
